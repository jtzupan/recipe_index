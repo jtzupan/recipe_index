{
 "cells": [
  {
   "cell_type": "code",
   "execution_count": null,
   "metadata": {},
   "outputs": [],
   "source": []
  },
  {
   "cell_type": "code",
   "execution_count": 1,
   "metadata": {},
   "outputs": [],
   "source": [
    "import os\n",
    "# try:\n",
    "#     from PIL import Image\n",
    "# except ImportError:\n",
    "#     import Image\n",
    "import pytesseract\n",
    "import string\n",
    "import pandas as pd"
   ]
  },
  {
   "cell_type": "code",
   "execution_count": 2,
   "metadata": {},
   "outputs": [],
   "source": [
    "pdf_recipe_path = os.path.join('..', 'recipes', 'burrito_2.png')"
   ]
  },
  {
   "cell_type": "code",
   "execution_count": 3,
   "metadata": {},
   "outputs": [],
   "source": [
    "# In order to bypass the image conversions of pytesseract, just use relative or absolute image path\n",
    "# NOTE: In this case you should provide tesseract supported images or tesseract will return error\n",
    "# recipe = pytesseract.image_to_string(pdf_recipe_path)"
   ]
  },
  {
   "cell_type": "code",
   "execution_count": 4,
   "metadata": {},
   "outputs": [],
   "source": [
    "# recipe.lower()"
   ]
  },
  {
   "cell_type": "code",
   "execution_count": 5,
   "metadata": {},
   "outputs": [],
   "source": [
    "# recipe = recipe.lower().translate(str.maketrans('', '', string.punctuation))\n",
    "# recipe = recipe.translate(str.maketrans('', '', string.digits))\n",
    "# recipe=recipe.replace('\\n',' ')"
   ]
  },
  {
   "cell_type": "code",
   "execution_count": 6,
   "metadata": {},
   "outputs": [
    {
     "data": {
      "text/html": [
       "<div>\n",
       "<style scoped>\n",
       "    .dataframe tbody tr th:only-of-type {\n",
       "        vertical-align: middle;\n",
       "    }\n",
       "\n",
       "    .dataframe tbody tr th {\n",
       "        vertical-align: top;\n",
       "    }\n",
       "\n",
       "    .dataframe thead th {\n",
       "        text-align: right;\n",
       "    }\n",
       "</style>\n",
       "<table border=\"1\" class=\"dataframe\">\n",
       "  <thead>\n",
       "    <tr style=\"text-align: right;\">\n",
       "      <th></th>\n",
       "      <th>0</th>\n",
       "    </tr>\n",
       "  </thead>\n",
       "  <tbody>\n",
       "    <tr>\n",
       "      <th>0</th>\n",
       "      <td>arriba</td>\n",
       "    </tr>\n",
       "    <tr>\n",
       "      <th>1</th>\n",
       "      <td>baked</td>\n",
       "    </tr>\n",
       "    <tr>\n",
       "      <th>2</th>\n",
       "      <td>winter</td>\n",
       "    </tr>\n",
       "    <tr>\n",
       "      <th>3</th>\n",
       "      <td>squash</td>\n",
       "    </tr>\n",
       "    <tr>\n",
       "      <th>4</th>\n",
       "      <td>mexican</td>\n",
       "    </tr>\n",
       "  </tbody>\n",
       "</table>\n",
       "</div>"
      ],
      "text/plain": [
       "         0\n",
       "0   arriba\n",
       "1    baked\n",
       "2   winter\n",
       "3   squash\n",
       "4  mexican"
      ]
     },
     "execution_count": 6,
     "metadata": {},
     "output_type": "execute_result"
    }
   ],
   "source": [
    "ingredients_df = pd.read_csv('./ingredient_list.csv')\n",
    "ingredients_df.head()"
   ]
  },
  {
   "cell_type": "code",
   "execution_count": 7,
   "metadata": {},
   "outputs": [],
   "source": [
    "pdf_recipe_path = os.path.join('..', 'recipes', 'burrito_2.png')\n",
    "ingredients_set = set(ingredients_df.iloc[:,0])"
   ]
  },
  {
   "cell_type": "code",
   "execution_count": null,
   "metadata": {},
   "outputs": [],
   "source": []
  },
  {
   "cell_type": "code",
   "execution_count": 8,
   "metadata": {},
   "outputs": [],
   "source": [
    "def get_recipe_ingredients(recipe_image_path, ingredients_set):\n",
    "    \"\"\"\"\"\"\n",
    "    # In order to bypass the image conversions of pytesseract, just use relative or absolute image path\n",
    "    # NOTE: In this case you should provide tesseract supported images or tesseract will return error\n",
    "    recipe = pytesseract.image_to_string(pdf_recipe_path)\n",
    "    recipe = recipe.lower().translate(str.maketrans('', '', string.punctuation))\n",
    "    recipe = recipe.translate(str.maketrans('', '', string.digits))\n",
    "    recipe = recipe.replace('\\n',' ')\n",
    "    word_set = set(recipe.split())\n",
    "    ingredients = list(word_set.intersection(ingredients_set))\n",
    "    return ingredients"
   ]
  },
  {
   "cell_type": "code",
   "execution_count": 9,
   "metadata": {},
   "outputs": [
    {
     "data": {
      "text/plain": [
       "['chipotle',\n",
       " 'lettuce',\n",
       " 'border',\n",
       " 'adobo',\n",
       " 'serve',\n",
       " 'skin',\n",
       " 'pico',\n",
       " 'top',\n",
       " 'oil',\n",
       " 'chicken',\n",
       " 'cups',\n",
       " 'taste',\n",
       " 'monterey',\n",
       " 'chile',\n",
       " 'fresh',\n",
       " 'burritos',\n",
       " 'de',\n",
       " 'season',\n",
       " 'directions',\n",
       " 'courtesy',\n",
       " 'tortillas',\n",
       " 'optional',\n",
       " 'bring',\n",
       " 'ingredients',\n",
       " 'slightly',\n",
       " 'rice',\n",
       " 'heat',\n",
       " 'salt',\n",
       " 'plus',\n",
       " 'warmed',\n",
       " 'serving',\n",
       " 'kosher',\n",
       " 'half',\n",
       " 'sauce',\n",
       " 'tablespoon',\n",
       " 'fold',\n",
       " 'magazine',\n",
       " 'chopped',\n",
       " 'romaine',\n",
       " 'add',\n",
       " 'stir',\n",
       " 'lower',\n",
       " 'mixture',\n",
       " 'rotisserie',\n",
       " 'cilantro',\n",
       " 'shredded',\n",
       " 'network',\n",
       " 'cook',\n",
       " 'pot',\n",
       " 'gallo',\n",
       " 'edge',\n",
       " 'roll',\n",
       " 'boil',\n",
       " 'vegetable',\n",
       " 'tortilla',\n",
       " 'inch',\n",
       " 'minutes',\n",
       " 'cheese',\n",
       " 'beans',\n",
       " 'white',\n",
       " 'cooked',\n",
       " 'jack',\n",
       " 'filling',\n",
       " 'medium',\n",
       " 'water',\n",
       " 'bottom',\n",
       " 'low',\n",
       " 'guacamole',\n",
       " 'pinto',\n",
       " 'cup',\n",
       " 'removed',\n",
       " 'flour',\n",
       " 'sizzle',\n",
       " 'cut',\n",
       " 'food',\n",
       " 'salsa']"
      ]
     },
     "execution_count": 9,
     "metadata": {},
     "output_type": "execute_result"
    }
   ],
   "source": [
    "get_recipe_ingredients(recipe_image_path=pdf_recipe_path, ingredients_set=ingredients_set)"
   ]
  },
  {
   "cell_type": "code",
   "execution_count": null,
   "metadata": {},
   "outputs": [],
   "source": []
  }
 ],
 "metadata": {
  "kernelspec": {
   "display_name": "recipe_venv",
   "language": "python",
   "name": "recipe_venv"
  },
  "language_info": {
   "codemirror_mode": {
    "name": "ipython",
    "version": 3
   },
   "file_extension": ".py",
   "mimetype": "text/x-python",
   "name": "python",
   "nbconvert_exporter": "python",
   "pygments_lexer": "ipython3",
   "version": "3.7.4"
  }
 },
 "nbformat": 4,
 "nbformat_minor": 4
}
